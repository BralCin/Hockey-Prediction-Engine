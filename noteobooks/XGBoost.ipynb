{
 "cells": [
  {
   "cell_type": "code",
   "execution_count": 1,
   "id": "87a09afe-a174-43b0-91e0-8e6396ebfe46",
   "metadata": {},
   "outputs": [],
   "source": [
    "# import packages\n",
    "import pandas as pd\n",
    "import numpy as np\n",
    "\n",
    "import xgboost as xgb\n",
    "\n",
    "from sklearn.pipeline import Pipeline\n",
    "from sklearn.preprocessing import StandardScaler, MinMaxScaler, LabelEncoder, OneHotEncoder\n",
    "from sklearn.model_selection import train_test_split, GridSearchCV\n",
    "from sklearn.metrics import classification_report, plot_confusion_matrix, confusion_matrix, accuracy_score\n",
    "\n",
    "import warnings\n",
    "warnings.filterwarnings(\"ignore\")"
   ]
  },
  {
   "cell_type": "code",
   "execution_count": 2,
   "id": "d021e4ec-33e5-430e-b672-a46b3c15fb29",
   "metadata": {},
   "outputs": [],
   "source": [
    "# load dataset and check for errors\n",
    "input_df = pd.read_csv('../data/output/input_df.csv')\n",
    "\n",
    "# remove shootouts\n",
    "input_df = input_df[input_df.result != 'shootout']"
   ]
  },
  {
   "cell_type": "code",
   "execution_count": 4,
   "id": "d7940689-0b13-49a5-b071-fdc3f75f0e29",
   "metadata": {},
   "outputs": [
    {
     "name": "stdout",
     "output_type": "stream",
     "text": [
      "------------------------------------------------------\n",
      "              precision    recall  f1-score   support\n",
      "\n",
      "      team 1       0.60      0.63      0.62       476\n",
      "      team 2       0.61      0.58      0.60       472\n",
      "\n",
      "    accuracy                           0.61       948\n",
      "   macro avg       0.61      0.61      0.61       948\n",
      "weighted avg       0.61      0.61      0.61       948\n",
      "\n",
      "Accuracy 0.6075949367088608\n",
      "------------------------------------------------------\n"
     ]
    },
    {
     "data": {
      "image/png": "[encoded data removed]",
      "text/plain": [
       "<Figure size 432x288 with 2 Axes>"
      ]
     },
     "metadata": {
      "needs_background": "light"
     },
     "output_type": "display_data"
    }
   ],
   "source": [
    "# set data and labels as X and y\n",
    "X = input_df.drop(['teams', 'result', 'gameDate'], axis=1)\n",
    "y = input_df['result']\n",
    "\n",
    "# encode labels\n",
    "label_encoder = LabelEncoder()\n",
    "label_encoded_y = label_encoder.fit_transform(y)\n",
    "\n",
    "# scale data\n",
    "scaler = StandardScaler()\n",
    "scaler.fit_transform(X)\n",
    "\n",
    "# train test split\n",
    "#X_train, X_test, y_train, y_test = train_test_split(X, label_encoded_y, test_size=0.2)\n",
    "X_train = X[:-948]\n",
    "X_test = X[-948:]\n",
    "y_train = y[:-948]\n",
    "y_test = y[-948:]\n",
    "\n",
    "# construct base of XGBoost model\n",
    "model = xgb.XGBClassifier(\n",
    "    n_jobs=-1,\n",
    "    tree_method='gpu_hist',\n",
    "    objective='binary:logistic',\n",
    "    eval_metric='logloss',\n",
    "    use_label_encoder=False,\n",
    "    \n",
    "    colsample_bytree=.73,\n",
    "    learning_rate=.102,\n",
    "    max_depth=2,\n",
    "    reg_lambda=.0775,\n",
    "    subsample=.975\n",
    ").fit(\n",
    "    X_train, y_train,\n",
    "    verbose=False,\n",
    "    early_stopping_rounds=10, \n",
    "    eval_set=[(X_test, y_test)],\n",
    ")\n",
    "\n",
    "# run tests\n",
    "prediction = model.predict(X_test) \n",
    "\n",
    "# display results\n",
    "plot_confusion_matrix(model, X_test, y_test, values_format='d', display_labels=['Team1 Win', 'Team2 Win'])\n",
    "print('------------------------------------------------------')\n",
    "print(classification_report(y_test, prediction))\n",
    "\n",
    "print('Accuracy', accuracy_score(y_test, prediction))\n",
    "print('------------------------------------------------------')"
   ]
  },
  {
   "cell_type": "code",
   "execution_count": null,
   "id": "485389e7-3b5e-463a-8d54-415badb4120f",
   "metadata": {},
   "outputs": [],
   "source": [
    "#param_grid = {\n",
    "#    'reg_lambda': [.7, .71, .72, .73, .74, .75, .76, .77, .78, .79, .8, .81, .82, .83, .84, .85, .86, .87, .88, .89, .9],\n",
    "#\n",
    "#}\n",
    "#\n",
    "#grid = GridSearchCV(model, param_grid, cv=5, verbose=True, n_jobs=8).fit(X_train, y_train)\n",
    "#\n",
    "#grid.best_params_\n",
    "#\n",
    "#    max_depth=5,\n",
    "#    gamma=0,\n",
    "#    learning_rate=.07,\n",
    "#    scale_pos_weight=.925,\n",
    "#    reg_lambda=4.711075,\n",
    "#    subsample=.9,\n",
    "#    colsample_bytree=.9,\n"
   ]
  },
  {
   "cell_type": "markdown",
   "id": "0950a32c-1f0a-4ea2-ae7e-6a7ae202f4d5",
   "metadata": {},
   "source": [
    "## "
   ]
  }
 ],
 "metadata": {
  "kernelspec": {
   "display_name": "hoceky (Python 3.8)",
   "language": "python",
   "name": "hockey"
  },
  "language_info": {
   "codemirror_mode": {
    "name": "ipython",
    "version": 3
   },
   "file_extension": ".py",
   "mimetype": "text/x-python",
   "name": "python",
   "nbconvert_exporter": "python",
   "pygments_lexer": "ipython3",
   "version": "3.7.11"
  }
 },
 "nbformat": 4,
 "nbformat_minor": 5
}
