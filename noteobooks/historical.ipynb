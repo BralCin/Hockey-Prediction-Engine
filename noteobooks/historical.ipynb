{
 "cells": [
  {
   "cell_type": "code",
   "execution_count": 1,
   "id": "7d5befd7-ec51-46c9-898e-5db3733ddcf2",
   "metadata": {},
   "outputs": [],
   "source": [
    "import pandas as pd\n",
    "import numpy as np\n",
    "from datetime import datetime\n",
    "\n",
    "from sklearn.preprocessing import MinMaxScaler"
   ]
  },
  {
   "cell_type": "code",
   "execution_count": 2,
   "id": "7dccac01-c555-49aa-88b4-8957a141b517",
   "metadata": {},
   "outputs": [],
   "source": [
    "import warnings\n",
    "warnings.filterwarnings('ignore')"
   ]
  },
  {
   "cell_type": "markdown",
   "id": "d2c0c02d-76ae-4d0c-95bc-cb0ae800167b",
   "metadata": {
    "tags": []
   },
   "source": [
    "## Game Results"
   ]
  },
  {
   "cell_type": "code",
   "execution_count": 3,
   "id": "208dabc5-2fa4-4402-a89b-0481395cdba4",
   "metadata": {},
   "outputs": [],
   "source": [
    "# load games dataset\n",
    "df_games = pd.read_csv('../data/games/all_games.csv')"
   ]
  },
  {
   "cell_type": "code",
   "execution_count": 4,
   "id": "e777398d-5c4c-408f-8c51-e1a42dbb784c",
   "metadata": {},
   "outputs": [],
   "source": [
    "# Select season to create game results for\n",
    "season_selection = list(range(2008, 2022))"
   ]
  },
  {
   "cell_type": "code",
   "execution_count": 5,
   "id": "9882a38d-4d74-4ac4-93bf-1760e2afd9c8",
   "metadata": {},
   "outputs": [],
   "source": [
    "# create raw game results\n",
    "game_results_seasons = []\n",
    "for i in range(len(season_selection)):\n",
    "    single_season_games = df_games[['gameId', 'gameDate', 'season', 'playerTeam', 'opposingTeam', 'home_or_away', 'goalsFor', 'goalsAgainst']] \\\n",
    "        .loc[(df_games['season'] == season_selection[i]) & (df_games['situation'] == 'all') & (df_games['playoffGame'] == 0)] \\\n",
    "        .drop_duplicates(subset='gameId') \\\n",
    "        .drop(['gameId'], axis=1)\n",
    "    single_season_games[['playerTeam', 'opposingTeam']] = single_season_games[['playerTeam', 'opposingTeam']].apply(lambda x: x.str.replace('.', ''))\n",
    "    game_results_seasons.append(single_season_games)\n",
    "game_results = pd.concat(game_results_seasons)"
   ]
  },
  {
   "cell_type": "code",
   "execution_count": 6,
   "id": "2b4fbc7e-e6c9-4a03-9e43-3a44b620f35a",
   "metadata": {},
   "outputs": [],
   "source": [
    "# define fucntion to create column of game results\n",
    "# 2 is a win for 'playerTeam'\n",
    "# 1 is a win for 'opposingTeam'\n",
    "# 0 is a game that went to shootout\n",
    "def game_result_label_race(row):\n",
    "    if row['goalsFor'] > row['goalsAgainst']:\n",
    "        return 'team 1'\n",
    "    if row['goalsFor'] < row['goalsAgainst']:\n",
    "        return 'team 2'\n",
    "    if row['goalsFor'] == row['goalsAgainst']:\n",
    "        return 'shootout'\n",
    "\n",
    "# define fucntion that encodes home team\n",
    "# 1 if team1 is home team\n",
    "# 2 if team2 is home team\n",
    "def home_team_t1_label_race(row):\n",
    "    if row['home_or_away'] == 'HOME':\n",
    "        return 1\n",
    "    if row['home_or_away'] == 'AWAY':\n",
    "        return 0\n",
    "    \n",
    "    \n",
    "def home_team_t2_label_race(row):\n",
    "    if row['home_or_away'] == 'HOME':\n",
    "        return 0\n",
    "    if row['home_or_away'] == 'AWAY':\n",
    "        return 1   "
   ]
  },
  {
   "cell_type": "code",
   "execution_count": 7,
   "id": "1e50e02b-499e-4524-a9a8-c70bcace3813",
   "metadata": {},
   "outputs": [],
   "source": [
    "game_results['home_or_away_t1'] = np.nan\n",
    "game_results['home_or_away_t2'] = np.nan\n",
    "\n",
    "# apply functions to crate column of game results and encode home team\n",
    "game_results['result'] = game_results.apply(lambda row: game_result_label_race(row), axis=1)\n",
    "game_results['home_or_away_t1'] = game_results.apply(lambda row: home_team_t1_label_race(row), axis=1)\n",
    "game_results['home_or_away_t2'] = game_results.apply(lambda row: home_team_t2_label_race(row), axis=1)"
   ]
  },
  {
   "cell_type": "code",
   "execution_count": 8,
   "id": "8d96b5a4-de97-4db1-8fb5-e86425fd874f",
   "metadata": {},
   "outputs": [],
   "source": [
    "# rename, drop and order columns for usability + reindexing\n",
    "game_results.rename(columns={'playerTeam': 'team1', 'opposingTeam': 'team2'}, inplace=True)\n",
    "game_results.drop(['goalsFor', 'goalsAgainst', 'home_or_away'], axis=1, inplace=True)\n",
    "game_results = game_results[['gameDate', 'season', 'team1', 'team2', 'result', 'home_or_away_t1', 'home_or_away_t2']].sort_values('gameDate').reset_index(drop=True)\n",
    "\n",
    "# convert date to python date\n",
    "game_results['gameDate'] = pd.to_datetime(game_results['gameDate'], format = '%Y%m%d')"
   ]
  },
  {
   "cell_type": "code",
   "execution_count": 9,
   "id": "a2ec77f9-3631-49be-9677-394be20de0d4",
   "metadata": {},
   "outputs": [
    {
     "data": {
      "text/html": [
       "<div>\n",
       "<style scoped>\n",
       "    .dataframe tbody tr th:only-of-type {\n",
       "        vertical-align: middle;\n",
       "    }\n",
       "\n",
       "    .dataframe tbody tr th {\n",
       "        vertical-align: top;\n",
       "    }\n",
       "\n",
       "    .dataframe thead th {\n",
       "        text-align: right;\n",
       "    }\n",
       "</style>\n",
       "<table border=\"1\" class=\"dataframe\">\n",
       "  <thead>\n",
       "    <tr style=\"text-align: right;\">\n",
       "      <th></th>\n",
       "      <th>gameDate</th>\n",
       "      <th>season</th>\n",
       "      <th>team1</th>\n",
       "      <th>team2</th>\n",
       "      <th>result</th>\n",
       "      <th>home_or_away_t1</th>\n",
       "      <th>home_or_away_t2</th>\n",
       "    </tr>\n",
       "  </thead>\n",
       "  <tbody>\n",
       "  </tbody>\n",
       "</table>\n",
       "</div>"
      ],
      "text/plain": [
       "Empty DataFrame\n",
       "Columns: [gameDate, season, team1, team2, result, home_or_away_t1, home_or_away_t2]\n",
       "Index: []"
      ]
     },
     "execution_count": 9,
     "metadata": {},
     "output_type": "execute_result"
    }
   ],
   "source": [
    "game_results[game_results.isnull().any(axis=1)]"
   ]
  },
  {
   "cell_type": "markdown",
   "id": "1dcbbba4-0481-489a-89d8-bede1fa008f0",
   "metadata": {
    "tags": []
   },
   "source": [
    "## Team Stats"
   ]
  },
  {
   "cell_type": "markdown",
   "id": "c89d7348-e788-46c4-9b41-9a302818e26f",
   "metadata": {
    "tags": []
   },
   "source": [
    "### Aggregate Stats"
   ]
  },
  {
   "cell_type": "code",
   "execution_count": 10,
   "id": "8f7b3679-5ae7-4036-8c07-e8a8cbc67927",
   "metadata": {},
   "outputs": [],
   "source": [
    "# load team stats datasets\n",
    "team_stats_seasons = [pd.read_csv('../data/team_stats/teams_08.csv'),\n",
    "                      pd.read_csv('../data/team_stats/teams_09.csv'),\n",
    "                      pd.read_csv('../data/team_stats/teams_10.csv'),\n",
    "                      pd.read_csv('../data/team_stats/teams_11.csv'),\n",
    "                      pd.read_csv('../data/team_stats/teams_12.csv'),\n",
    "                      pd.read_csv('../data/team_stats/teams_13.csv'),\n",
    "                      pd.read_csv('../data/team_stats/teams_14.csv'),\n",
    "                      pd.read_csv('../data/team_stats/teams_15.csv'),\n",
    "                      pd.read_csv('../data/team_stats/teams_16.csv'),\n",
    "                      pd.read_csv('../data/team_stats/teams_17.csv'),\n",
    "                      pd.read_csv('../data/team_stats/teams_18.csv'),\n",
    "                      pd.read_csv('../data/team_stats/teams_19.csv'),\n",
    "                      pd.read_csv('../data/team_stats/teams_20.csv'),\n",
    "                      pd.read_csv('../data/team_stats/teams_21.csv'),\n",
    "]\n",
    "\n",
    "df_teams = pd.concat(team_stats_seasons)"
   ]
  },
  {
   "cell_type": "code",
   "execution_count": 11,
   "id": "e42ed3ca-49a5-4fa7-9e06-a8851e3ea45f",
   "metadata": {},
   "outputs": [],
   "source": [
    "# select team stats to include in modelProgram\n",
    "tracked_statistics = ['name', 'season',\n",
    "                      'xGoalsPercentage',\n",
    "                      'flurryScoreVenueAdjustedxGoalsFor', 'penaltiesFor', 'dZoneGiveawaysAgainst',\n",
    "                      'flurryScoreVenueAdjustedxGoalsAgainst', 'penaltiesAgainst', 'dZoneGiveawaysFor']"
   ]
  },
  {
   "cell_type": "code",
   "execution_count": 12,
   "id": "98e35be3-2d75-4de0-85a6-70102f8125d1",
   "metadata": {},
   "outputs": [],
   "source": [
    "# isolate team stats from all situations and drop columns for usability \n",
    "team_stats_5on5 = df_teams[tracked_statistics].loc[(df_teams['situation'] == '5on5')].add_suffix('_5on5').rename(columns={\"name_5on5\": \"name\", \"season_5on5\": \"season\"})\n",
    "team_stats_5on4 = df_teams[tracked_statistics].loc[(df_teams['situation'] == '5on4')].add_suffix('_5on4').rename(columns={\"name_5on4\": \"name\", \"season_5on4\": \"season\"})\n",
    "team_stats_4on5 = df_teams[tracked_statistics].loc[(df_teams['situation'] == '4on5')].add_suffix('_4on5').rename(columns={\"name_4on5\": \"name\", \"season_4on5\": \"season\"})"
   ]
  },
  {
   "cell_type": "code",
   "execution_count": 13,
   "id": "b8bf1a82-2203-4abf-bec8-ea8932c49393",
   "metadata": {},
   "outputs": [],
   "source": [
    "team_stats_5on5['team_strength_pos'] = team_stats_5on5.loc[:,'flurryScoreVenueAdjustedxGoalsFor_5on5':'dZoneGiveawaysAgainst_5on5'].mean(axis = 1)\n",
    "team_stats_5on5['team_strength_neg'] = team_stats_5on5.loc[:,'flurryScoreVenueAdjustedxGoalsAgainst_5on5':].mean(axis = 1).mul(-.5)\n",
    "team_stats_5on5['team_strength_5on5'] = team_stats_5on5.iloc[:, -2:].sum(axis=1)\n",
    "team_stats_5on5.drop(['team_strength_pos', 'team_strength_neg'], axis=1, inplace=True)\n",
    "\n",
    "team_stats_5on4['team_strength_pos'] = team_stats_5on4.loc[:,'flurryScoreVenueAdjustedxGoalsFor_5on4':'dZoneGiveawaysAgainst_5on4'].mean(axis = 1)\n",
    "team_stats_5on4['team_strength_neg'] = team_stats_5on4.loc[:,'flurryScoreVenueAdjustedxGoalsAgainst_5on4':].mean(axis = 1).mul(-.5)\n",
    "team_stats_5on4['team_strength_5on4'] = team_stats_5on4.iloc[:, -2:].sum(axis=1)\n",
    "team_stats_5on4.drop(['team_strength_pos', 'team_strength_neg', 'xGoalsPercentage_5on4'], axis=1, inplace=True)\n",
    "\n",
    "team_stats_4on5['team_strength_pos'] = team_stats_4on5.loc[:,'flurryScoreVenueAdjustedxGoalsFor_4on5':'dZoneGiveawaysAgainst_4on5'].mean(axis = 1)\n",
    "team_stats_4on5['team_strength_neg'] = team_stats_4on5.loc[:,'flurryScoreVenueAdjustedxGoalsAgainst_4on5':].mean(axis = 1).mul(-.5)\n",
    "team_stats_4on5['team_strength_4on5'] = team_stats_4on5.iloc[:, -2:].sum(axis=1)\n",
    "team_stats_4on5.drop(['team_strength_pos', 'team_strength_neg', 'xGoalsPercentage_4on5'], axis=1, inplace=True)"
   ]
  },
  {
   "cell_type": "code",
   "execution_count": 14,
   "id": "0399b5fe-6ca9-4757-aba0-491e71473fcf",
   "metadata": {},
   "outputs": [],
   "source": [
    "# merge different situations into single dataframe\n",
    "team_stats = pd.merge(team_stats_5on5, team_stats_5on4, how='left', on=['name', 'season'])\n",
    "team_stats = pd.merge(team_stats, team_stats_4on5, how='left', on=['name', 'season'])\n",
    "\n",
    "# clean team names\n",
    "team_stats['name'] = team_stats['name'].str.replace('.', '')"
   ]
  },
  {
   "cell_type": "code",
   "execution_count": 15,
   "id": "62c6f771-269b-485b-96c9-52c4e48c4e8d",
   "metadata": {},
   "outputs": [],
   "source": [
    "team_stats.fillna(team_stats.median(), inplace=True)"
   ]
  },
  {
   "cell_type": "code",
   "execution_count": 16,
   "id": "3ea733da-105d-403a-be57-95d996bd9d4a",
   "metadata": {},
   "outputs": [
    {
     "data": {
      "text/html": [
       "<div>\n",
       "<style scoped>\n",
       "    .dataframe tbody tr th:only-of-type {\n",
       "        vertical-align: middle;\n",
       "    }\n",
       "\n",
       "    .dataframe tbody tr th {\n",
       "        vertical-align: top;\n",
       "    }\n",
       "\n",
       "    .dataframe thead th {\n",
       "        text-align: right;\n",
       "    }\n",
       "</style>\n",
       "<table border=\"1\" class=\"dataframe\">\n",
       "  <thead>\n",
       "    <tr style=\"text-align: right;\">\n",
       "      <th></th>\n",
       "      <th>name</th>\n",
       "      <th>season</th>\n",
       "      <th>xGoalsPercentage_5on5</th>\n",
       "      <th>team_strength_5on5</th>\n",
       "      <th>team_strength_5on4</th>\n",
       "      <th>team_strength_4on5</th>\n",
       "    </tr>\n",
       "  </thead>\n",
       "  <tbody>\n",
       "  </tbody>\n",
       "</table>\n",
       "</div>"
      ],
      "text/plain": [
       "Empty DataFrame\n",
       "Columns: [name, season, xGoalsPercentage_5on5, team_strength_5on5, team_strength_5on4, team_strength_4on5]\n",
       "Index: []"
      ]
     },
     "execution_count": 16,
     "metadata": {},
     "output_type": "execute_result"
    }
   ],
   "source": [
    "team_stats = team_stats[['name', 'season', 'xGoalsPercentage_5on5', 'team_strength_5on5', 'team_strength_5on4', 'team_strength_4on5']]\n",
    "team_stats[team_stats.isnull().any(axis=1)]"
   ]
  },
  {
   "cell_type": "markdown",
   "id": "24f9a237-1508-4eac-b05c-72b6028f6bb2",
   "metadata": {
    "jp-MarkdownHeadingCollapsed": true,
    "tags": []
   },
   "source": [
    "### Time Series Stats"
   ]
  },
  {
   "cell_type": "code",
   "execution_count": 17,
   "id": "c6d16cd7-43f3-44de-a6c1-6d5550c5c43f",
   "metadata": {},
   "outputs": [],
   "source": [
    "ts = pd.read_csv('../data/games/all_games.csv')"
   ]
  },
  {
   "cell_type": "code",
   "execution_count": 18,
   "id": "4634bb82-aab8-40d3-acfc-ee3f2efdaede",
   "metadata": {},
   "outputs": [],
   "source": [
    "ts.sort_values('gameDate', inplace=True)\n",
    "\n",
    "ts = ts.loc[(ts['situation'] == '5on5') & (ts['playoffGame'] == 0)]\n",
    "ts[['team']] = ts[['team']].apply(lambda x: x.str.replace('.', ''))\n",
    "\n",
    "ts['gameDate'] =  pd.to_datetime(ts['gameDate'], format = '%Y%m%d')\n",
    "\n",
    "ts = ts[['team', 'gameDate', 'xGoalsPercentage']]\n",
    "\n",
    "teams_list = list(ts['team'].unique())"
   ]
  },
  {
   "cell_type": "code",
   "execution_count": 19,
   "id": "8955ec9b-a5e4-4a50-9e72-8c6cd113c89a",
   "metadata": {},
   "outputs": [],
   "source": [
    "timeseries_teams = {}\n",
    "\n",
    "for i  in range(len(teams_list)):\n",
    "    timeseries_teams[f'{teams_list[i]}'] = ts.loc[ts['team'] == teams_list[i]]"
   ]
  },
  {
   "cell_type": "code",
   "execution_count": 20,
   "id": "c12776ce-4e72-4e78-939d-8d63e67384c2",
   "metadata": {},
   "outputs": [],
   "source": [
    "for i in teams_list:\n",
    "    df_ts_team = timeseries_teams[i].copy()\n",
    "    df_ts_team['xGoalsPercentage_last_3'] = df_ts_team['xGoalsPercentage'].rolling(window=3, closed= \"left\").mean().fillna(.5)\n",
    "    df_ts_team['xGoalsPercentage_last_5'] = df_ts_team['xGoalsPercentage'].rolling(window=5, closed= \"left\").mean().fillna(.5)\n",
    "    df_ts_team['xGoalsPercentage_last_10'] = df_ts_team['xGoalsPercentage'].rolling(window=10, closed= \"left\").mean().fillna(.5)\n",
    "    timeseries_teams[i] = df_ts_team"
   ]
  },
  {
   "cell_type": "code",
   "execution_count": 21,
   "id": "92e01d2f-e19f-4efd-a219-57c005e49a0a",
   "metadata": {},
   "outputs": [
    {
     "data": {
      "text/html": [
       "<div>\n",
       "<style scoped>\n",
       "    .dataframe tbody tr th:only-of-type {\n",
       "        vertical-align: middle;\n",
       "    }\n",
       "\n",
       "    .dataframe tbody tr th {\n",
       "        vertical-align: top;\n",
       "    }\n",
       "\n",
       "    .dataframe thead th {\n",
       "        text-align: right;\n",
       "    }\n",
       "</style>\n",
       "<table border=\"1\" class=\"dataframe\">\n",
       "  <thead>\n",
       "    <tr style=\"text-align: right;\">\n",
       "      <th></th>\n",
       "      <th>team</th>\n",
       "      <th>gameDate</th>\n",
       "      <th>xGoalsPercentage_last_3</th>\n",
       "      <th>xGoalsPercentage_last_5</th>\n",
       "      <th>xGoalsPercentage_last_10</th>\n",
       "    </tr>\n",
       "  </thead>\n",
       "  <tbody>\n",
       "  </tbody>\n",
       "</table>\n",
       "</div>"
      ],
      "text/plain": [
       "Empty DataFrame\n",
       "Columns: [team, gameDate, xGoalsPercentage_last_3, xGoalsPercentage_last_5, xGoalsPercentage_last_10]\n",
       "Index: []"
      ]
     },
     "execution_count": 21,
     "metadata": {},
     "output_type": "execute_result"
    }
   ],
   "source": [
    "ts_stats = pd.concat(timeseries_teams.values(), ignore_index=True).drop(['xGoalsPercentage'], axis=1)\n",
    "ts_stats[ts_stats.isnull().any(axis=1)]"
   ]
  },
  {
   "cell_type": "markdown",
   "id": "8f93f54e-0c64-4c9a-9349-bdc0f535d62c",
   "metadata": {
    "tags": []
   },
   "source": [
    "## Goalies"
   ]
  },
  {
   "cell_type": "code",
   "execution_count": 22,
   "id": "8027520a-7aec-4160-ba0c-6de6d63bd03a",
   "metadata": {},
   "outputs": [],
   "source": [
    "df_goalies_labels = pd.read_csv('../data/goalie_stats/goalies_20.csv')\n",
    "goalies_21 = pd.read_csv('../data/goalie_stats/goalies_21.csv', header=None)\n",
    "goalies_21 = pd.DataFrame(data=goalies_21.values, columns=df_goalies_labels.columns)"
   ]
  },
  {
   "cell_type": "code",
   "execution_count": 23,
   "id": "113b9563-b8aa-45a4-8db7-36dc40895555",
   "metadata": {},
   "outputs": [],
   "source": [
    "# load goalie stats datasets\n",
    "goalie_stats_seasons = [pd.read_csv('../data/goalie_stats/goalies_08.csv'),\n",
    "                        pd.read_csv('../data/goalie_stats/goalies_09.csv'),\n",
    "                        pd.read_csv('../data/goalie_stats/goalies_10.csv'),\n",
    "                        pd.read_csv('../data/goalie_stats/goalies_11.csv'),\n",
    "                        pd.read_csv('../data/goalie_stats/goalies_12.csv'),\n",
    "                        pd.read_csv('../data/goalie_stats/goalies_13.csv'),\n",
    "                        pd.read_csv('../data/goalie_stats/goalies_14.csv'),\n",
    "                        pd.read_csv('../data/goalie_stats/goalies_15.csv'),\n",
    "                        pd.read_csv('../data/goalie_stats/goalies_16.csv'),\n",
    "                        pd.read_csv('../data/goalie_stats/goalies_17.csv'),\n",
    "                        pd.read_csv('../data/goalie_stats/goalies_18.csv'),\n",
    "                        pd.read_csv('../data/goalie_stats/goalies_19.csv'),\n",
    "                        pd.read_csv('../data/goalie_stats/goalies_20.csv'),\n",
    "                        goalies_21]\n",
    "\n",
    "df_goalies = pd.concat(goalie_stats_seasons)"
   ]
  },
  {
   "cell_type": "code",
   "execution_count": 24,
   "id": "f0e26ef9-8da4-46c8-9826-15a38ddf9079",
   "metadata": {},
   "outputs": [],
   "source": [
    "# select team stats to include in model\n",
    "tracked_statistics = ['name', 'season', 'team', 'games_played',\n",
    "                      'xRebounds', 'xFreeze', 'xOnGoal',\n",
    "                      'xPlayStopped','xPlayContinuedInZone', 'xPlayContinuedOutsideZone',  \n",
    "                      'lowDangerxGoals', 'mediumDangerxGoals', 'highDangerxGoals']\n",
    "\n",
    "# select stats to regularize by games played\n",
    "goalie_reg = tracked_statistics[4:]"
   ]
  },
  {
   "cell_type": "code",
   "execution_count": 25,
   "id": "bd0360b9-b9ca-42b3-9178-6d3557138e3e",
   "metadata": {},
   "outputs": [],
   "source": [
    "# isolate gaolie stats from all situations and drop columns for usability \n",
    "goalie_stats_indv = df_goalies[tracked_statistics].loc[(df_goalies['situation'] == '5on5')].drop(['name'], axis=1)\n",
    "\n",
    "# clean team names\n",
    "goalie_stats_indv['team'] = goalie_stats_indv['team'].str.replace('.', '')"
   ]
  },
  {
   "cell_type": "code",
   "execution_count": 26,
   "id": "cc79cbb6-49b6-4eb0-9d62-48eb91a6be1a",
   "metadata": {},
   "outputs": [],
   "source": [
    "# regularize goalie stats to games played\n",
    "# proportion stats to games played\n",
    "goalie_stats_indv[goalie_reg] = goalie_stats_indv[goalie_reg].multiply(goalie_stats_indv['games_played'], axis='index').divide(82, axis='index')\n",
    "# group by team and season\n",
    "goalie_stats = goalie_stats_indv.groupby(by=['team', 'season']).sum().reset_index()\n",
    "# regularize games played to 82 game season and drop games_played\n",
    "goalie_stats[goalie_reg] = goalie_stats[goalie_reg].divide(goalie_stats['games_played'], axis='index').multiply(82, axis='index')\n",
    "goalie_stats.drop(['games_played'], axis=1, inplace=True)"
   ]
  },
  {
   "cell_type": "code",
   "execution_count": 27,
   "id": "6b64ed12-0ad1-481e-bd99-5b34bb3b9c24",
   "metadata": {},
   "outputs": [
    {
     "data": {
      "text/html": [
       "<div>\n",
       "<style scoped>\n",
       "    .dataframe tbody tr th:only-of-type {\n",
       "        vertical-align: middle;\n",
       "    }\n",
       "\n",
       "    .dataframe tbody tr th {\n",
       "        vertical-align: top;\n",
       "    }\n",
       "\n",
       "    .dataframe thead th {\n",
       "        text-align: right;\n",
       "    }\n",
       "</style>\n",
       "<table border=\"1\" class=\"dataframe\">\n",
       "  <thead>\n",
       "    <tr style=\"text-align: right;\">\n",
       "      <th></th>\n",
       "      <th>team</th>\n",
       "      <th>season</th>\n",
       "      <th>goalie_strength</th>\n",
       "    </tr>\n",
       "  </thead>\n",
       "  <tbody>\n",
       "  </tbody>\n",
       "</table>\n",
       "</div>"
      ],
      "text/plain": [
       "Empty DataFrame\n",
       "Columns: [team, season, goalie_strength]\n",
       "Index: []"
      ]
     },
     "execution_count": 27,
     "metadata": {},
     "output_type": "execute_result"
    }
   ],
   "source": [
    "# scale goalie stats for wieghting\n",
    "scaler = MinMaxScaler()\n",
    "goalie_stats[goalie_reg] = scaler.fit_transform(goalie_stats[goalie_reg])\n",
    "\n",
    "# weight minor stats\n",
    "goalie_weighting = goalie_reg[:6]\n",
    "goalie_stats[goalie_weighting] = goalie_stats[goalie_weighting] * 1\n",
    "# weight major stats\n",
    "goalie_weighting = goalie_reg[6:]\n",
    "goalie_stats[goalie_weighting] = goalie_stats[goalie_weighting] * 2\n",
    "\n",
    "# create goalie metric and drop old stats\n",
    "goalie_stats['goalie_strength'] = goalie_stats.loc[:,'xRebounds':].mean(axis = 1)\n",
    "goalie_stats.drop(goalie_reg, axis=1, inplace=True)\n",
    "\n",
    "goalie_stats[goalie_stats.isnull().any(axis=1)]"
   ]
  },
  {
   "cell_type": "markdown",
   "id": "de2c4052-652b-4b79-b9fe-56c3ca9e4de4",
   "metadata": {
    "tags": []
   },
   "source": [
    "## Lines/Pairings"
   ]
  },
  {
   "cell_type": "code",
   "execution_count": 28,
   "id": "67e9442c-e1c9-44d9-9f21-49852338d42a",
   "metadata": {},
   "outputs": [],
   "source": [
    "# load goalie stats datasets\n",
    "line_stats_seasons = [pd.read_csv('../data/line_stats/lines_08.csv'),\n",
    "                       pd.read_csv('../data/line_stats/lines_09.csv'),\n",
    "                       pd.read_csv('../data/line_stats/lines_10.csv'),\n",
    "                       pd.read_csv('../data/line_stats/lines_11.csv'),\n",
    "                       pd.read_csv('../data/line_stats/lines_12.csv'),\n",
    "                       pd.read_csv('../data/line_stats/lines_13.csv'),\n",
    "                       pd.read_csv('../data/line_stats/lines_14.csv'),\n",
    "                       pd.read_csv('../data/line_stats/lines_15.csv'),\n",
    "                       pd.read_csv('../data/line_stats/lines_16.csv'),\n",
    "                       pd.read_csv('../data/line_stats/lines_17.csv'),\n",
    "                       pd.read_csv('../data/line_stats/lines_18.csv'),\n",
    "                       pd.read_csv('../data/line_stats/lines_19.csv'),\n",
    "                       pd.read_csv('../data/line_stats/lines_20.csv'),\n",
    "                       pd.read_csv('../data/line_stats/lines_21.csv'),\n",
    "]\n",
    "\n",
    "df_lines = pd.concat(line_stats_seasons)"
   ]
  },
  {
   "cell_type": "code",
   "execution_count": 29,
   "id": "43d21d00-64d4-4257-a652-59639f503de1",
   "metadata": {},
   "outputs": [],
   "source": [
    "# select team stats to include in model\n",
    "tracked_statistics = ['position', 'season', 'team', 'icetime',\n",
    "                      'flurryScoreVenueAdjustedxGoalsFor', 'xOnGoalFor', 'xReboundsFor', 'reboundxGoalsFor',\n",
    "                      'xPlayStoppedFor', 'xPlayContinuedInZoneFor', 'xPlayContinuedOutsideZoneFor',\n",
    "                      'penaltiesAgainst', 'dZoneGiveawaysAgainst', 'takeawaysFor',\n",
    "                      'lowDangerxGoalsFor', 'mediumDangerxGoalsFor','highDangerxGoalsFor',\n",
    "                      'flurryScoreVenueAdjustedxGoalsAgainst', 'xOnGoalAgainst', 'xReboundsAgainst', 'reboundxGoalsAgainst',\n",
    "                      'xPlayStoppedAgainst', 'xPlayContinuedInZoneAgainst', 'xPlayContinuedOutsideZoneAgainst',\n",
    "                      'penaltiesFor', 'dZoneGiveawaysFor', 'takeawaysAgainst',\n",
    "                      'lowDangerxGoalsAgainst', 'mediumDangerxGoalsAgainst','highDangerxGoalsAgainst']\n",
    "\n",
    "# select stats to regularize by games played\n",
    "lines_reg = tracked_statistics[4:]"
   ]
  },
  {
   "cell_type": "code",
   "execution_count": 30,
   "id": "9808a072-6841-4b0e-9745-031b2e103e95",
   "metadata": {},
   "outputs": [],
   "source": [
    "# clean team names\n",
    "df_lines['team'] = df_lines['team'].str.replace('.', '')\n",
    "\n",
    "# isolate line and pairing stats from each other \n",
    "line_stats = df_lines[tracked_statistics].loc[(df_lines['position'] == 'line')].drop(['position'], axis=1).reset_index(drop=True)\n",
    "pairing_stats = df_lines[tracked_statistics].loc[(df_lines['position'] == 'pairing')].drop(['position'], axis=1).reset_index(drop=True)"
   ]
  },
  {
   "cell_type": "code",
   "execution_count": 31,
   "id": "4294ab4a-5da4-4df3-a593-31887989dcb0",
   "metadata": {},
   "outputs": [
    {
     "data": {
      "text/plain": [
       "129056"
      ]
     },
     "execution_count": 31,
     "metadata": {},
     "output_type": "execute_result"
    }
   ],
   "source": [
    "len(line_stats)"
   ]
  },
  {
   "cell_type": "code",
   "execution_count": 32,
   "id": "9c021013-3820-4c21-875d-f13ee2cff145",
   "metadata": {},
   "outputs": [],
   "source": [
    "# select 4 top lines by icetime for each team for each season to be used as lines 1-4\n",
    "line_stats = line_stats.iloc[line_stats.groupby(['season', 'team'], sort=False)['icetime'].nlargest(4).index.get_level_values(2).to_list()]\n",
    "\n",
    "# select 3 top pairings by icetime for each team for each season to be used as pairings 1-3\n",
    "pairing_stats = pairing_stats.iloc[pairing_stats.groupby(['season', 'team'], sort=False)['icetime'].nlargest(3).index.get_level_values(2).to_list()]\n",
    "\n",
    "# overwrite icetime with respective line numbers and rename column\n",
    "line_stats['line'] = [1, 2, 3, 4] * 426\n",
    "pairing_stats['line'] = [1, 2, 3] * 426"
   ]
  },
  {
   "cell_type": "markdown",
   "id": "613f4812-b1c8-4331-bd5b-9a1f8f2531fb",
   "metadata": {
    "tags": []
   },
   "source": [
    "### Line 1"
   ]
  },
  {
   "cell_type": "code",
   "execution_count": 33,
   "id": "46c24294-e1e0-48b6-a2d4-029c2cb4d513",
   "metadata": {},
   "outputs": [],
   "source": [
    "# pull lines\n",
    "first_lines = line_stats.loc[(line_stats['line'] == 1)]\n",
    "second_lines = line_stats.loc[(line_stats['line'] == 2)]\n",
    "third_lines = line_stats.loc[(line_stats['line'] == 3)]\n",
    "fourth_lines = line_stats.loc[(line_stats['line'] == 4)]\n",
    "\n",
    "# pull pairings\n",
    "first_pairings = line_stats.loc[(line_stats['line'] == 1)]\n",
    "second_pairings = line_stats.loc[(line_stats['line'] == 2)]\n",
    "third_pairings = line_stats.loc[(line_stats['line'] == 3)]"
   ]
  },
  {
   "cell_type": "code",
   "execution_count": 34,
   "id": "35367ba8-f988-4558-b8fb-1b98178bd4b0",
   "metadata": {},
   "outputs": [],
   "source": [
    "# regularize line stats to average seconds played per line\n",
    "first_lines[lines_reg] = first_lines[lines_reg].divide(first_lines['icetime'], axis='index').multiply(50000, axis='index')\n",
    "second_lines[lines_reg] = second_lines[lines_reg].divide(second_lines['icetime'], axis='index').multiply(50000, axis='index')\n",
    "third_lines[lines_reg] = third_lines[lines_reg].divide(third_lines['icetime'], axis='index').multiply(50000, axis='index')\n",
    "fourth_lines[lines_reg] = fourth_lines[lines_reg].divide(fourth_lines ['icetime'], axis='index').multiply(50000, axis='index')\n",
    "\n",
    "# regularize pairing stats to average seconds played per pairing\n",
    "first_pairings[lines_reg] = first_pairings[lines_reg].divide(first_pairings['icetime'], axis='index').multiply(50000, axis='index')\n",
    "second_pairings[lines_reg] = second_pairings[lines_reg].divide(second_pairings['icetime'], axis='index').multiply(50000, axis='index')\n",
    "third_pairings[lines_reg] = third_pairings[lines_reg].divide(third_pairings['icetime'], axis='index').multiply(50000, axis='index')\n",
    "\n",
    "# drop icetime column in line dfs\n",
    "first_lines.drop(['icetime'], axis=1, inplace=True)\n",
    "second_lines.drop(['icetime'], axis=1, inplace=True)\n",
    "third_lines.drop(['icetime'], axis=1, inplace=True)\n",
    "fourth_lines.drop(['icetime'], axis=1, inplace=True)\n",
    "first_pairings.drop(['icetime'], axis=1, inplace=True)\n",
    "second_pairings.drop(['icetime'], axis=1, inplace=True)\n",
    "third_pairings.drop(['icetime'], axis=1, inplace=True)"
   ]
  },
  {
   "cell_type": "code",
   "execution_count": 35,
   "id": "75ca9c10-2103-45cf-b41e-c17fbed5accc",
   "metadata": {},
   "outputs": [],
   "source": [
    "# scale goalie stats for wieghting\n",
    "scaler = MinMaxScaler()\n",
    "\n",
    "first_lines[lines_reg] = scaler.fit_transform(first_lines[lines_reg])\n",
    "second_lines[lines_reg] = scaler.fit_transform(second_lines[lines_reg])\n",
    "third_lines[lines_reg] = scaler.fit_transform(third_lines[lines_reg])\n",
    "fourth_lines[lines_reg] = scaler.fit_transform(fourth_lines[lines_reg])\n",
    "\n",
    "first_pairings[lines_reg] = scaler.fit_transform(first_pairings[lines_reg])\n",
    "second_pairings[lines_reg] = scaler.fit_transform(second_pairings[lines_reg])\n",
    "third_pairings[lines_reg] = scaler.fit_transform(third_pairings[lines_reg])"
   ]
  },
  {
   "cell_type": "code",
   "execution_count": 36,
   "id": "35d0dc43-1692-42d9-b1d2-534bebdd11b3",
   "metadata": {},
   "outputs": [],
   "source": [
    "major_stats = ['flurryScoreVenueAdjustedxGoalsFor', 'flurryScoreVenueAdjustedxGoalsAgainst', \n",
    "               'penaltiesFor', 'penaltiesAgainst',\n",
    "               'takeawaysFor', 'takeawaysAgainst',\n",
    "               'dZoneGiveawaysFor', 'dZoneGiveawaysAgainst',\n",
    "               'mediumDangerxGoalsFor', 'mediumDangerxGoalsAgainst',\n",
    "               'highDangerxGoalsFor', 'highDangerxGoalsAgainst']\n",
    "\n",
    "minor_stats = ['xOnGoalFor', 'xOnGoalAgainst', \n",
    "               'xReboundsFor', 'xReboundsAgainst', \n",
    "               'xPlayStoppedFor', 'xPlayStoppedAgainst', \n",
    "               'xPlayContinuedInZoneFor', 'xPlayContinuedInZoneAgainst',\n",
    "               'xPlayContinuedOutsideZoneFor', 'xPlayContinuedOutsideZoneAgainst',\n",
    "               'reboundxGoalsFor', 'reboundxGoalsAgainst',\n",
    "               'lowDangerxGoalsFor', 'lowDangerxGoalsAgainst']"
   ]
  },
  {
   "cell_type": "code",
   "execution_count": 37,
   "id": "504751e3-3594-400c-af27-93ff63f70e60",
   "metadata": {},
   "outputs": [],
   "source": [
    "first_lines[major_stats] = first_lines[major_stats] * 2\n",
    "first_lines[minor_stats] = first_lines[minor_stats] * 1\n",
    "\n",
    "second_lines[major_stats] = second_lines[major_stats] * 2\n",
    "second_lines[minor_stats] = second_lines[minor_stats] * 1\n",
    "\n",
    "third_lines[major_stats] = third_lines[major_stats] * 2\n",
    "third_lines[minor_stats] = third_lines[minor_stats] * 1\n",
    "\n",
    "fourth_lines[major_stats] = fourth_lines[major_stats] * 2\n",
    "fourth_lines[minor_stats] = fourth_lines[minor_stats] * 1\n",
    "\n",
    "first_pairings[major_stats] = first_pairings[major_stats] * 2\n",
    "first_pairings[minor_stats] = first_pairings[minor_stats] * 1\n",
    "\n",
    "second_pairings[major_stats] = second_pairings[major_stats] * 2\n",
    "second_pairings[minor_stats] = second_pairings[minor_stats] * 1\n",
    "\n",
    "third_pairings[major_stats] = third_pairings[major_stats] * 2\n",
    "third_pairings[minor_stats] = third_pairings[minor_stats] * 1"
   ]
  },
  {
   "cell_type": "code",
   "execution_count": 38,
   "id": "89d7763a-1b0b-4f4d-924f-3e515f8ba9f3",
   "metadata": {},
   "outputs": [],
   "source": [
    "# create goalie metric and drop old stats\n",
    "first_lines['line1_strength_pos'] = first_lines.loc[:,'flurryScoreVenueAdjustedxGoalsFor':'highDangerxGoalsFor'].mean(axis = 1)\n",
    "first_lines['line1_strength_neg'] = first_lines.loc[:,'flurryScoreVenueAdjustedxGoalsAgainst':].mean(axis = 1).mul(-.5)\n",
    "first_lines['line1_strength'] = first_lines.iloc[:, -2:].sum(axis=1)\n",
    "first_lines.drop(['line1_strength_pos', 'line1_strength_neg', 'line'], axis=1, inplace=True)\n",
    "\n",
    "\n",
    "second_lines['line2_strength_pos'] = second_lines.loc[:,'flurryScoreVenueAdjustedxGoalsFor':'highDangerxGoalsFor'].mean(axis = 1)\n",
    "second_lines['line2_strength_neg'] = second_lines.loc[:,'flurryScoreVenueAdjustedxGoalsAgainst':].mean(axis = 1).mul(-.5)\n",
    "second_lines['line2_strength'] = second_lines.iloc[:, -2:].sum(axis=1)\n",
    "second_lines.drop(['line2_strength_pos', 'line2_strength_neg', 'line'], axis=1, inplace=True)\n",
    "\n",
    "third_lines['line3_strength_pos'] = third_lines.loc[:,'flurryScoreVenueAdjustedxGoalsFor':'highDangerxGoalsFor'].mean(axis = 1)\n",
    "third_lines['line3_strength_neg'] = third_lines.loc[:,'flurryScoreVenueAdjustedxGoalsAgainst':].mean(axis = 1).mul(-.5)\n",
    "third_lines['line3_strength'] = third_lines.iloc[:, -2:].sum(axis=1)\n",
    "third_lines.drop(['line3_strength_pos', 'line3_strength_neg', 'line'], axis=1, inplace=True)\n",
    "\n",
    "fourth_lines['line4_strength_pos'] = fourth_lines.loc[:,'flurryScoreVenueAdjustedxGoalsFor':'highDangerxGoalsFor'].mean(axis = 1)\n",
    "fourth_lines['line4_strength_neg'] = fourth_lines.loc[:,'flurryScoreVenueAdjustedxGoalsAgainst':].mean(axis = 1).mul(-.5)\n",
    "fourth_lines['line4_strength'] = fourth_lines.iloc[:, -2:].sum(axis=1)\n",
    "fourth_lines.drop(['line4_strength_pos', 'line4_strength_neg', 'line'], axis=1, inplace=True)\n",
    "\n",
    "first_pairings['pair1_strength_pos'] = first_pairings.loc[:,'flurryScoreVenueAdjustedxGoalsFor':'highDangerxGoalsFor'].mean(axis = 1)\n",
    "first_pairings['pair1_strength_neg'] = first_pairings.loc[:,'flurryScoreVenueAdjustedxGoalsAgainst':].mean(axis = 1).mul(-.1)\n",
    "first_pairings['pair1_strength'] = first_pairings.iloc[:, -2:].sum(axis=1)\n",
    "first_pairings.drop(['pair1_strength_pos', 'pair1_strength_neg', 'line'], axis=1, inplace=True)\n",
    "\n",
    "second_pairings['pair2_strength_pos'] = second_pairings.loc[:,'flurryScoreVenueAdjustedxGoalsFor':'highDangerxGoalsFor'].mean(axis = 1)\n",
    "second_pairings['pair2_strength_neg'] = second_pairings.loc[:,'flurryScoreVenueAdjustedxGoalsAgainst':].mean(axis = 1).mul(-.1)\n",
    "second_pairings['pair2_strength'] = second_pairings.iloc[:, -2:].sum(axis=1)\n",
    "second_pairings.drop(['pair2_strength_pos', 'pair2_strength_neg', 'line'], axis=1, inplace=True)\n",
    "\n",
    "third_pairings['pair3_strength_pos'] = third_pairings.loc[:,'flurryScoreVenueAdjustedxGoalsFor':'highDangerxGoalsFor'].mean(axis = 1)\n",
    "third_pairings['pair3_strength_neg'] = third_pairings.loc[:,'flurryScoreVenueAdjustedxGoalsAgainst':].mean(axis = 1).mul(-.1)\n",
    "third_pairings['pair3_strength'] = third_pairings.iloc[:, -2:].sum(axis=1)\n",
    "third_pairings.drop(['pair3_strength_pos', 'pair3_strength_neg', 'line'], axis=1, inplace=True)"
   ]
  },
  {
   "cell_type": "code",
   "execution_count": 39,
   "id": "c2c4f1c1-7291-4989-a4bc-47954e1a1c33",
   "metadata": {},
   "outputs": [
    {
     "data": {
      "text/html": [
       "<div>\n",
       "<style scoped>\n",
       "    .dataframe tbody tr th:only-of-type {\n",
       "        vertical-align: middle;\n",
       "    }\n",
       "\n",
       "    .dataframe tbody tr th {\n",
       "        vertical-align: top;\n",
       "    }\n",
       "\n",
       "    .dataframe thead th {\n",
       "        text-align: right;\n",
       "    }\n",
       "</style>\n",
       "<table border=\"1\" class=\"dataframe\">\n",
       "  <thead>\n",
       "    <tr style=\"text-align: right;\">\n",
       "      <th></th>\n",
       "      <th>season</th>\n",
       "      <th>team</th>\n",
       "      <th>forward_strength</th>\n",
       "      <th>defense_strength</th>\n",
       "    </tr>\n",
       "  </thead>\n",
       "  <tbody>\n",
       "  </tbody>\n",
       "</table>\n",
       "</div>"
      ],
      "text/plain": [
       "Empty DataFrame\n",
       "Columns: [season, team, forward_strength, defense_strength]\n",
       "Index: []"
      ]
     },
     "execution_count": 39,
     "metadata": {},
     "output_type": "execute_result"
    }
   ],
   "source": [
    "# add line metrics to row for each team for each season\n",
    "lp_stats = first_lines[['season', 'team']]\n",
    "lp_stats['line1_strength'] = np.multiply(first_lines['line1_strength'].values, 32)\n",
    "lp_stats['line2_strength'] = np.multiply(second_lines['line2_strength'].values, 27)\n",
    "lp_stats['line3_strength'] = np.multiply(third_lines['line3_strength'].values, 22)\n",
    "lp_stats['line4_strength'] = np.multiply(fourth_lines['line4_strength'].values, 19)\n",
    "lp_stats['forward_strength'] = lp_stats.loc[:, 'line1_strength':'line4_strength'].sum(axis=1)\n",
    "\n",
    "lp_stats['pair1_strength'] = np.multiply(first_pairings['pair1_strength'].values, 39)\n",
    "lp_stats['pair2_strength'] = np.multiply(second_pairings['pair2_strength'].values, 33)\n",
    "lp_stats['pair3_strength'] = np.multiply(third_pairings['pair3_strength'].values, 28)\n",
    "lp_stats['defense_strength'] = lp_stats.loc[:, 'pair1_strength':'pair3_strength'].sum(axis=1)\n",
    "\n",
    "lp_stats = lp_stats.drop(['line1_strength', 'line2_strength', 'line3_strength', 'line4_strength',\n",
    "                          'pair1_strength', 'pair2_strength', 'pair3_strength'], axis=1).reset_index(drop=True)\n",
    "\n",
    "lp_stats[lp_stats.isnull().any(axis=1)]"
   ]
  },
  {
   "cell_type": "code",
   "execution_count": 40,
   "id": "819e7c9f-4cc9-4a5b-a8f8-c6b257c68b28",
   "metadata": {},
   "outputs": [],
   "source": [
    "import re\n",
    "\n",
    "from selenium import webdriver\n",
    "from selenium.webdriver.firefox.options import Options as FirefoxOptions\n",
    "from bs4 import BeautifulSoup\n",
    "from urllib.request import Request, urlopen"
   ]
  },
  {
   "cell_type": "code",
   "execution_count": 41,
   "id": "4b797dcf-fe6d-4091-87c6-b1f2ca9e5db6",
   "metadata": {},
   "outputs": [],
   "source": [
    "df_games_web = pd.read_csv('../data/games/21-22_season.csv')"
   ]
  },
  {
   "cell_type": "code",
   "execution_count": 42,
   "id": "34a5ed24-20ac-4780-b30a-90b5a910630f",
   "metadata": {},
   "outputs": [],
   "source": [
    "req = Request('https://moneypuck.com/moneypuck/playerData/seasonSummary/2021/regular/lines.csv')\n",
    "req.add_header('User-Agent', 'Mozilla/5.0 (X11; Ubuntu; Linux x86_64; rv:77.0) Gecko/20100101 Firefox/77.0')\n",
    "content = urlopen(req)\n",
    "\n",
    "df_lines_web = pd.read_csv(content)"
   ]
  },
  {
   "cell_type": "code",
   "execution_count": 43,
   "id": "975781c4-5dd8-4848-9a2d-a945f1d6e830",
   "metadata": {},
   "outputs": [],
   "source": [
    "req = Request('https://moneypuck.com/moneypuck/playerData/seasonSummary/2021/regular/goalies.csv')\n",
    "req.add_header('User-Agent', 'Mozilla/5.0 (X11; Ubuntu; Linux x86_64; rv:77.0) Gecko/20100101 Firefox/77.0')\n",
    "content = urlopen(req)\n",
    "\n",
    "df_goalies_web = pd.read_csv(content)"
   ]
  },
  {
   "cell_type": "code",
   "execution_count": 44,
   "id": "ab958f05-31d0-483d-8cd4-96684fa62f41",
   "metadata": {},
   "outputs": [],
   "source": [
    "req = Request('https://moneypuck.com/moneypuck/playerData/seasonSummary/2021/regular/teams.csv')\n",
    "req.add_header('User-Agent', 'Mozilla/5.0 (X11; Ubuntu; Linux x86_64; rv:77.0) Gecko/20100101 Firefox/77.0')\n",
    "content = urlopen(req)\n",
    "\n",
    "df_teams_web = pd.read_csv(content)"
   ]
  },
  {
   "cell_type": "code",
   "execution_count": 45,
   "id": "bea7983f-7622-4efd-8c22-da8b437d61d1",
   "metadata": {},
   "outputs": [],
   "source": [
    "options = FirefoxOptions()\n",
    "options.add_argument(\"--headless\")\n",
    "driver = webdriver.Firefox(options=options)\n",
    "\n",
    "lineups = {}\n",
    "\n",
    "teams = [x.lower() for x in ['Anaheim Ducks',\n",
    "                             'Arizona Coyotes',\n",
    "                             'Boston Bruins',\n",
    "                             'Buffalo Sabres',\n",
    "                             'Calgary Flames',\n",
    "                             'Carolina Hurricanes',\n",
    "                             'Chicago Blackhawks',\n",
    "                             'Colorado Avalanche',\n",
    "                             'Columbus Blue Jackets',\n",
    "                             'Dallas Stars',\n",
    "                             'Detroit Red Wings',\n",
    "                             'Edmonton Oilers',\n",
    "                             'Florida Panthers',\n",
    "                             'Los Angeles Kings',\n",
    "                             'Minnesota Wild',\n",
    "                             'Montreal Canadiens',\n",
    "                             'Nashville Predators',\n",
    "                             'New Jersey Devils',\n",
    "                             'New York Islanders',\n",
    "                             'New York Rangers',\n",
    "                             'Ottawa Senators',\n",
    "                             'Philadelphia Flyers',\n",
    "                             'Pittsburgh Penguins',\n",
    "                             'San Jose Sharks',\n",
    "                             'Seattle Kraken',\n",
    "                             'St Louis Blues',\n",
    "                             'Tampa Bay Lightning',\n",
    "                             'Toronto Maple Leafs',\n",
    "                             'Vancouver Canucks',\n",
    "                             'Vegas Golden Knights',\n",
    "                             'Washington Capitals',\n",
    "                             'Winnipeg Jets']]\n",
    "\n",
    "for i in range(len(teams)):\n",
    "    teams[i] = teams[i].replace(\" \", \"-\")"
   ]
  },
  {
   "cell_type": "code",
   "execution_count": 46,
   "id": "f9107793-592a-4d8a-80db-73bc2cae52ef",
   "metadata": {},
   "outputs": [],
   "source": [
    "#for i in range(len(teams)):\n",
    "#    driver.get(f\"https://www.dailyfaceoff.com/teams/{teams[i]}/line-combinations/\")\n",
    "#\n",
    "#    content = driver.page_source\n",
    "#    soup = BeautifulSoup(content)\n",
    "#\n",
    "#    players = soup.findAll('span', attrs={'class':'player-name'})\n",
    "#    players = [str(i) for i in players]\n",
    "#\n",
    "#    for j in range(len(players)):\n",
    "#        s = players[j]\n",
    "#        players[j] = re.search('<span class=\"player-name\">(.*)</span>', s).group(1).split()[-1]\n",
    "#        \n",
    "#    players = players[:18] + players[-2:]\n",
    "#    lines = [players[:3], players[3:6], players[6:9], players[9:12], players[12:14], players[14:16], players[16:18], players[-2], players[-1]]\n",
    "#    \n",
    "#    for k in range(len(lines) - 2):\n",
    "#        lines[k] = '-'.join(lines[k])\n",
    "#    \n",
    "#    lineups[f'{teams[i]}'] = pd.DataFrame({'lines': lines}) "
   ]
  },
  {
   "cell_type": "code",
   "execution_count": 47,
   "id": "5a4e2c0f-ea01-4053-a7fb-d958d189429e",
   "metadata": {},
   "outputs": [],
   "source": [
    "df_games_web = df_games_web[['Date', 'Home', 'Visitor']]\n",
    "today = datetime.today().strftime('%Y-%m-%d')\n",
    "df_games_web.loc[df_games_web['Date'] == today]"
   ]
  },
  {
   "cell_type": "markdown",
   "id": "0d8313d7-87a5-4f4a-b4b0-c33dbfb76de4",
   "metadata": {
    "tags": []
   },
   "source": [
    "## Zipping"
   ]
  },
  {
   "cell_type": "code",
   "execution_count": 50,
   "id": "ac3e0c06-6f1a-42dd-9751-a858b8477380",
   "metadata": {},
   "outputs": [],
   "source": [
    "# create copies of datasets with new names for columns to merge on\n",
    "t1_team_stats = team_stats.rename(columns={'name': 'team1'})\n",
    "t2_team_stats = team_stats.rename(columns={'name': 'team2'})\n",
    "\n",
    "t1_goalies_stats = goalie_stats.rename(columns={'team': 'team1'})\n",
    "t2_goalies_stats = goalie_stats.rename(columns={'team': 'team2'})\n",
    "\n",
    "t1_lp_stats = lp_stats.rename(columns={'team': 'team1'})\n",
    "t2_lp_stats = lp_stats.rename(columns={'team': 'team2'})\n",
    "\n",
    "t1_ts_stats = ts_stats.rename(columns={'team': 'team1'})\n",
    "t2_ts_stats = ts_stats.rename(columns={'team': 'team2'})\n",
    "\n",
    "# merge datasets and game_results\n",
    "input_df = pd.merge(game_results, t1_team_stats, how='left', on=['team1', 'season'])\n",
    "input_df = pd.merge(input_df, t2_team_stats, how='left', on=['team2', 'season'], suffixes=('_1', '_2'))\n",
    "\n",
    "input_df = pd.merge(input_df, t1_goalies_stats, how='left', on=['team1', 'season'])\n",
    "input_df = pd.merge(input_df, t2_goalies_stats, how='left', on=['team2', 'season'], suffixes=('_1', '_2'))\n",
    "\n",
    "input_df = pd.merge(input_df, t1_lp_stats, how='left', on=['team1', 'season'])\n",
    "input_df = pd.merge(input_df, t2_lp_stats, how='left', on=['team2', 'season'], suffixes=('_1', '_2'))\n",
    "\n",
    "input_df = pd.merge(input_df, t1_ts_stats, how='left', on=['team1', 'gameDate'])\n",
    "input_df = pd.merge(input_df, t2_ts_stats, how='left', on=['team2', 'gameDate'], suffixes=('_1', '_2'))\n",
    "\n",
    "# change teams to single column with tuples and set as index\n",
    "input_df['teams'] = input_df[['team1', 'team2']].apply(tuple, axis=1)\n",
    "input_df = input_df.set_index('gameDate').drop(['team1', 'team2', 'season'], axis=1)"
   ]
  },
  {
   "cell_type": "code",
   "execution_count": 51,
   "id": "783f758e-daae-4bac-ba82-026aecda2e6c",
   "metadata": {},
   "outputs": [],
   "source": [
    "input_df.to_csv('../data/output/input_df.csv')"
   ]
  },
  {
   "cell_type": "code",
   "execution_count": 52,
   "id": "49e63634-9aa2-431d-ab76-d39cd7d6368f",
   "metadata": {},
   "outputs": [
    {
     "data": {
      "text/plain": [
       "(15997, 24)"
      ]
     },
     "execution_count": 52,
     "metadata": {},
     "output_type": "execute_result"
    }
   ],
   "source": [
    "input_df.shape"
   ]
  },
  {
   "cell_type": "code",
   "execution_count": 53,
   "id": "40fca737-48a0-478a-b649-a7260e127074",
   "metadata": {},
   "outputs": [
    {
     "data": {
      "text/plain": [
       "result                        0\n",
       "home_or_away_t1               0\n",
       "home_or_away_t2               0\n",
       "xGoalsPercentage_5on5_1       0\n",
       "team_strength_5on5_1          0\n",
       "team_strength_5on4_1          0\n",
       "team_strength_4on5_1          0\n",
       "xGoalsPercentage_5on5_2       0\n",
       "team_strength_5on5_2          0\n",
       "team_strength_5on4_2          0\n",
       "team_strength_4on5_2          0\n",
       "goalie_strength_1             0\n",
       "goalie_strength_2             0\n",
       "forward_strength_1            0\n",
       "defense_strength_1            0\n",
       "forward_strength_2            0\n",
       "defense_strength_2            0\n",
       "xGoalsPercentage_last_3_1     0\n",
       "xGoalsPercentage_last_5_1     0\n",
       "xGoalsPercentage_last_10_1    0\n",
       "xGoalsPercentage_last_3_2     0\n",
       "xGoalsPercentage_last_5_2     0\n",
       "xGoalsPercentage_last_10_2    0\n",
       "teams                         0\n",
       "dtype: int64"
      ]
     },
     "execution_count": 53,
     "metadata": {},
     "output_type": "execute_result"
    }
   ],
   "source": [
    "input_df.isnull().sum()"
   ]
  },
  {
   "cell_type": "code",
   "execution_count": 54,
   "id": "1af6e16b-6ce2-4866-9909-71e479f2fcbc",
   "metadata": {},
   "outputs": [
    {
     "data": {
      "text/html": [
       "<div>\n",
       "<style scoped>\n",
       "    .dataframe tbody tr th:only-of-type {\n",
       "        vertical-align: middle;\n",
       "    }\n",
       "\n",
       "    .dataframe tbody tr th {\n",
       "        vertical-align: top;\n",
       "    }\n",
       "\n",
       "    .dataframe thead th {\n",
       "        text-align: right;\n",
       "    }\n",
       "</style>\n",
       "<table border=\"1\" class=\"dataframe\">\n",
       "  <thead>\n",
       "    <tr style=\"text-align: right;\">\n",
       "      <th></th>\n",
       "      <th>result</th>\n",
       "      <th>home_or_away_t1</th>\n",
       "      <th>home_or_away_t2</th>\n",
       "      <th>xGoalsPercentage_5on5_1</th>\n",
       "      <th>team_strength_5on5_1</th>\n",
       "      <th>team_strength_5on4_1</th>\n",
       "      <th>team_strength_4on5_1</th>\n",
       "      <th>xGoalsPercentage_5on5_2</th>\n",
       "      <th>team_strength_5on5_2</th>\n",
       "      <th>team_strength_5on4_2</th>\n",
       "      <th>...</th>\n",
       "      <th>defense_strength_1</th>\n",
       "      <th>forward_strength_2</th>\n",
       "      <th>defense_strength_2</th>\n",
       "      <th>xGoalsPercentage_last_3_1</th>\n",
       "      <th>xGoalsPercentage_last_5_1</th>\n",
       "      <th>xGoalsPercentage_last_10_1</th>\n",
       "      <th>xGoalsPercentage_last_3_2</th>\n",
       "      <th>xGoalsPercentage_last_5_2</th>\n",
       "      <th>xGoalsPercentage_last_10_2</th>\n",
       "      <th>teams</th>\n",
       "    </tr>\n",
       "    <tr>\n",
       "      <th>gameDate</th>\n",
       "      <th></th>\n",
       "      <th></th>\n",
       "      <th></th>\n",
       "      <th></th>\n",
       "      <th></th>\n",
       "      <th></th>\n",
       "      <th></th>\n",
       "      <th></th>\n",
       "      <th></th>\n",
       "      <th></th>\n",
       "      <th></th>\n",
       "      <th></th>\n",
       "      <th></th>\n",
       "      <th></th>\n",
       "      <th></th>\n",
       "      <th></th>\n",
       "      <th></th>\n",
       "      <th></th>\n",
       "      <th></th>\n",
       "      <th></th>\n",
       "      <th></th>\n",
       "    </tr>\n",
       "  </thead>\n",
       "  <tbody>\n",
       "  </tbody>\n",
       "</table>\n",
       "<p>0 rows × 24 columns</p>\n",
       "</div>"
      ],
      "text/plain": [
       "Empty DataFrame\n",
       "Columns: [result, home_or_away_t1, home_or_away_t2, xGoalsPercentage_5on5_1, team_strength_5on5_1, team_strength_5on4_1, team_strength_4on5_1, xGoalsPercentage_5on5_2, team_strength_5on5_2, team_strength_5on4_2, team_strength_4on5_2, goalie_strength_1, goalie_strength_2, forward_strength_1, defense_strength_1, forward_strength_2, defense_strength_2, xGoalsPercentage_last_3_1, xGoalsPercentage_last_5_1, xGoalsPercentage_last_10_1, xGoalsPercentage_last_3_2, xGoalsPercentage_last_5_2, xGoalsPercentage_last_10_2, teams]\n",
       "Index: []\n",
       "\n",
       "[0 rows x 24 columns]"
      ]
     },
     "execution_count": 54,
     "metadata": {},
     "output_type": "execute_result"
    }
   ],
   "source": [
    "input_df[input_df.isnull().any(axis=1)]"
   ]
  }
 ],
 "metadata": {
  "kernelspec": {
   "display_name": "hoceky (Python 3.8)",
   "language": "python",
   "name": "hockey"
  },
  "language_info": {
   "codemirror_mode": {
    "name": "ipython",
    "version": 3
   },
   "file_extension": ".py",
   "mimetype": "text/x-python",
   "name": "python",
   "nbconvert_exporter": "python",
   "pygments_lexer": "ipython3",
   "version": "3.7.11"
  }
 },
 "nbformat": 4,
 "nbformat_minor": 5
}
